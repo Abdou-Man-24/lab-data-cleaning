{
 "cells": [
  {
   "cell_type": "markdown",
   "metadata": {},
   "source": [
    "#### 1. Import pandas library"
   ]
  },
  {
   "cell_type": "code",
   "execution_count": 25,
   "metadata": {},
   "outputs": [],
   "source": [
    "import pandas as pd"
   ]
  },
  {
   "cell_type": "markdown",
   "metadata": {},
   "source": [
    "#### 2. Import users table:"
   ]
  },
  {
   "cell_type": "code",
   "execution_count": 26,
   "metadata": {},
   "outputs": [],
   "source": [
    "user = pd.read_csv('users_table.csv')"
   ]
  },
  {
   "cell_type": "markdown",
   "metadata": {},
   "source": [
    "#### 3. Rename Id column to userId"
   ]
  },
  {
   "cell_type": "code",
   "execution_count": 59,
   "metadata": {},
   "outputs": [],
   "source": [
    "user.rename(columns={'Id':'userId'},inplace = True)"
   ]
  },
  {
   "cell_type": "markdown",
   "metadata": {},
   "source": [
    "#### 4. Import posts table:"
   ]
  },
  {
   "cell_type": "code",
   "execution_count": 78,
   "metadata": {},
   "outputs": [],
   "source": [
    "posts = pd.read_csv('posts_table.csv')"
   ]
  },
  {
   "cell_type": "markdown",
   "metadata": {},
   "source": [
    "#### 5. Rename Id column to postId and OwnerUserId to userId"
   ]
  },
  {
   "cell_type": "code",
   "execution_count": 80,
   "metadata": {},
   "outputs": [
    {
     "data": {
      "text/html": [
       "<div>\n",
       "<style scoped>\n",
       "    .dataframe tbody tr th:only-of-type {\n",
       "        vertical-align: middle;\n",
       "    }\n",
       "\n",
       "    .dataframe tbody tr th {\n",
       "        vertical-align: top;\n",
       "    }\n",
       "\n",
       "    .dataframe thead th {\n",
       "        text-align: right;\n",
       "    }\n",
       "</style>\n",
       "<table border=\"1\" class=\"dataframe\">\n",
       "  <thead>\n",
       "    <tr style=\"text-align: right;\">\n",
       "      <th></th>\n",
       "      <th>postId</th>\n",
       "      <th>PostTypeId</th>\n",
       "      <th>AcceptedAnswerId</th>\n",
       "      <th>CreaionDate</th>\n",
       "      <th>Score</th>\n",
       "      <th>ViewCount</th>\n",
       "      <th>Body</th>\n",
       "      <th>userId</th>\n",
       "      <th>LasActivityDate</th>\n",
       "      <th>Title</th>\n",
       "      <th>...</th>\n",
       "      <th>AnswerCount</th>\n",
       "      <th>CommentCount</th>\n",
       "      <th>FavoriteCount</th>\n",
       "      <th>LastEditorUserId</th>\n",
       "      <th>LastEditDate</th>\n",
       "      <th>CommunityOwnedDate</th>\n",
       "      <th>ParentId</th>\n",
       "      <th>ClosedDate</th>\n",
       "      <th>OwnerDisplayName</th>\n",
       "      <th>LastEditorDisplayName</th>\n",
       "    </tr>\n",
       "  </thead>\n",
       "  <tbody>\n",
       "    <tr>\n",
       "      <th>0</th>\n",
       "      <td>1</td>\n",
       "      <td>1</td>\n",
       "      <td>15.0</td>\n",
       "      <td>2010-07-19 19:12:12</td>\n",
       "      <td>23</td>\n",
       "      <td>1278.0</td>\n",
       "      <td>&lt;p&gt;How should I elicit prior distributions fro...</td>\n",
       "      <td>8.0</td>\n",
       "      <td>2010-09-15 21:08:26</td>\n",
       "      <td>Eliciting priors from experts</td>\n",
       "      <td>...</td>\n",
       "      <td>5.0</td>\n",
       "      <td>1</td>\n",
       "      <td>14.0</td>\n",
       "      <td>NaN</td>\n",
       "      <td>NaN</td>\n",
       "      <td>NaN</td>\n",
       "      <td>NaN</td>\n",
       "      <td>NaN</td>\n",
       "      <td>NaN</td>\n",
       "      <td>NaN</td>\n",
       "    </tr>\n",
       "    <tr>\n",
       "      <th>1</th>\n",
       "      <td>2</td>\n",
       "      <td>1</td>\n",
       "      <td>59.0</td>\n",
       "      <td>2010-07-19 19:12:57</td>\n",
       "      <td>22</td>\n",
       "      <td>8198.0</td>\n",
       "      <td>&lt;p&gt;In many different statistical methods there...</td>\n",
       "      <td>24.0</td>\n",
       "      <td>2012-11-12 09:21:54</td>\n",
       "      <td>What is normality?</td>\n",
       "      <td>...</td>\n",
       "      <td>7.0</td>\n",
       "      <td>1</td>\n",
       "      <td>8.0</td>\n",
       "      <td>88.0</td>\n",
       "      <td>2010-08-07 17:56:44</td>\n",
       "      <td>NaN</td>\n",
       "      <td>NaN</td>\n",
       "      <td>NaN</td>\n",
       "      <td>NaN</td>\n",
       "      <td>NaN</td>\n",
       "    </tr>\n",
       "    <tr>\n",
       "      <th>2</th>\n",
       "      <td>3</td>\n",
       "      <td>1</td>\n",
       "      <td>5.0</td>\n",
       "      <td>2010-07-19 19:13:28</td>\n",
       "      <td>54</td>\n",
       "      <td>3613.0</td>\n",
       "      <td>&lt;p&gt;What are some valuable Statistical Analysis...</td>\n",
       "      <td>18.0</td>\n",
       "      <td>2013-05-27 14:48:36</td>\n",
       "      <td>What are some valuable Statistical Analysis op...</td>\n",
       "      <td>...</td>\n",
       "      <td>19.0</td>\n",
       "      <td>4</td>\n",
       "      <td>36.0</td>\n",
       "      <td>183.0</td>\n",
       "      <td>2011-02-12 05:50:03</td>\n",
       "      <td>2010-07-19 19:13:28</td>\n",
       "      <td>NaN</td>\n",
       "      <td>NaN</td>\n",
       "      <td>NaN</td>\n",
       "      <td>NaN</td>\n",
       "    </tr>\n",
       "    <tr>\n",
       "      <th>3</th>\n",
       "      <td>4</td>\n",
       "      <td>1</td>\n",
       "      <td>135.0</td>\n",
       "      <td>2010-07-19 19:13:31</td>\n",
       "      <td>13</td>\n",
       "      <td>5224.0</td>\n",
       "      <td>&lt;p&gt;I have two groups of data.  Each with a dif...</td>\n",
       "      <td>23.0</td>\n",
       "      <td>2010-09-08 03:00:19</td>\n",
       "      <td>Assessing the significance of differences in d...</td>\n",
       "      <td>...</td>\n",
       "      <td>5.0</td>\n",
       "      <td>2</td>\n",
       "      <td>2.0</td>\n",
       "      <td>NaN</td>\n",
       "      <td>NaN</td>\n",
       "      <td>NaN</td>\n",
       "      <td>NaN</td>\n",
       "      <td>NaN</td>\n",
       "      <td>NaN</td>\n",
       "      <td>NaN</td>\n",
       "    </tr>\n",
       "    <tr>\n",
       "      <th>4</th>\n",
       "      <td>5</td>\n",
       "      <td>2</td>\n",
       "      <td>NaN</td>\n",
       "      <td>2010-07-19 19:14:43</td>\n",
       "      <td>81</td>\n",
       "      <td>NaN</td>\n",
       "      <td>&lt;p&gt;The R-project&lt;/p&gt;\\n\\n&lt;p&gt;&lt;a href=\"http://www...</td>\n",
       "      <td>23.0</td>\n",
       "      <td>2010-07-19 19:21:15</td>\n",
       "      <td>NaN</td>\n",
       "      <td>...</td>\n",
       "      <td>NaN</td>\n",
       "      <td>3</td>\n",
       "      <td>NaN</td>\n",
       "      <td>23.0</td>\n",
       "      <td>2010-07-19 19:21:15</td>\n",
       "      <td>2010-07-19 19:14:43</td>\n",
       "      <td>3.0</td>\n",
       "      <td>NaN</td>\n",
       "      <td>NaN</td>\n",
       "      <td>NaN</td>\n",
       "    </tr>\n",
       "  </tbody>\n",
       "</table>\n",
       "<p>5 rows × 21 columns</p>\n",
       "</div>"
      ],
      "text/plain": [
       "   postId  PostTypeId  AcceptedAnswerId          CreaionDate  Score  \\\n",
       "0       1           1              15.0  2010-07-19 19:12:12     23   \n",
       "1       2           1              59.0  2010-07-19 19:12:57     22   \n",
       "2       3           1               5.0  2010-07-19 19:13:28     54   \n",
       "3       4           1             135.0  2010-07-19 19:13:31     13   \n",
       "4       5           2               NaN  2010-07-19 19:14:43     81   \n",
       "\n",
       "   ViewCount                                               Body  userId  \\\n",
       "0     1278.0  <p>How should I elicit prior distributions fro...     8.0   \n",
       "1     8198.0  <p>In many different statistical methods there...    24.0   \n",
       "2     3613.0  <p>What are some valuable Statistical Analysis...    18.0   \n",
       "3     5224.0  <p>I have two groups of data.  Each with a dif...    23.0   \n",
       "4        NaN  <p>The R-project</p>\\n\\n<p><a href=\"http://www...    23.0   \n",
       "\n",
       "       LasActivityDate                                              Title  \\\n",
       "0  2010-09-15 21:08:26                      Eliciting priors from experts   \n",
       "1  2012-11-12 09:21:54                                 What is normality?   \n",
       "2  2013-05-27 14:48:36  What are some valuable Statistical Analysis op...   \n",
       "3  2010-09-08 03:00:19  Assessing the significance of differences in d...   \n",
       "4  2010-07-19 19:21:15                                                NaN   \n",
       "\n",
       "   ... AnswerCount  CommentCount  FavoriteCount  LastEditorUserId  \\\n",
       "0  ...         5.0             1           14.0               NaN   \n",
       "1  ...         7.0             1            8.0              88.0   \n",
       "2  ...        19.0             4           36.0             183.0   \n",
       "3  ...         5.0             2            2.0               NaN   \n",
       "4  ...         NaN             3            NaN              23.0   \n",
       "\n",
       "          LastEditDate   CommunityOwnedDate ParentId  ClosedDate  \\\n",
       "0                  NaN                  NaN      NaN         NaN   \n",
       "1  2010-08-07 17:56:44                  NaN      NaN         NaN   \n",
       "2  2011-02-12 05:50:03  2010-07-19 19:13:28      NaN         NaN   \n",
       "3                  NaN                  NaN      NaN         NaN   \n",
       "4  2010-07-19 19:21:15  2010-07-19 19:14:43      3.0         NaN   \n",
       "\n",
       "  OwnerDisplayName LastEditorDisplayName  \n",
       "0              NaN                   NaN  \n",
       "1              NaN                   NaN  \n",
       "2              NaN                   NaN  \n",
       "3              NaN                   NaN  \n",
       "4              NaN                   NaN  \n",
       "\n",
       "[5 rows x 21 columns]"
      ]
     },
     "execution_count": 80,
     "metadata": {},
     "output_type": "execute_result"
    }
   ],
   "source": [
    "posts.rename(columns={'Id':'postId','OwnerUserId':'userId'},inplace = True)\n",
    "posts.head(5)"
   ]
  },
  {
   "cell_type": "markdown",
   "metadata": {},
   "source": [
    "#### 6. Define new dataframes for users and posts with the following selected columns:\n",
    "    **users columns**: userId, Reputation,Views,UpVotes,DownVotes\n",
    "    **posts columns**: postId, Score,userId,ViewCount,CommentCount"
   ]
  },
  {
   "cell_type": "code",
   "execution_count": 83,
   "metadata": {
    "scrolled": true
   },
   "outputs": [],
   "source": [
    "users= user[['userId','Reputation','Views','UpVotes','DownVotes']]"
   ]
  },
  {
   "cell_type": "code",
   "execution_count": 84,
   "metadata": {},
   "outputs": [],
   "source": [
    "posts= posts[['postId', 'Score','userId','ViewCount','CommentCount']]"
   ]
  },
  {
   "cell_type": "markdown",
   "metadata": {},
   "source": [
    "#### 7. Merge both dataframes, users and posts. \n",
    "You will need to make a [merge](https://pandas.pydata.org/pandas-docs/stable/generated/pandas.DataFrame.merge.html) of posts and users dataframes."
   ]
  },
  {
   "cell_type": "code",
   "execution_count": 87,
   "metadata": {},
   "outputs": [],
   "source": [
    "#merged both tabells on userId\n",
    "merge_user_post=users.merge(posts,on='userId')"
   ]
  },
  {
   "cell_type": "markdown",
   "metadata": {},
   "source": [
    "#### 8. How many missing values do you have in your merged dataframe? On which columns?"
   ]
  },
  {
   "cell_type": "code",
   "execution_count": 100,
   "metadata": {},
   "outputs": [
    {
     "data": {
      "text/plain": [
       "userId              0\n",
       "Reputation          0\n",
       "Views               0\n",
       "UpVotes             0\n",
       "DownVotes           0\n",
       "postId              0\n",
       "Score               0\n",
       "ViewCount       23572\n",
       "CommentCount        0\n",
       "dtype: int64"
      ]
     },
     "execution_count": 100,
     "metadata": {},
     "output_type": "execute_result"
    }
   ],
   "source": [
    "# count the number of null values per column\n",
    "merge_user_post.isnull().sum(axis = 0)"
   ]
  },
  {
   "cell_type": "markdown",
   "metadata": {},
   "source": [
    "#### 9. You will need to make something with missing values.  Will you clean or filling them? Explain. \n",
    "**Remember** to check the results of your code before passing to the next step"
   ]
  },
  {
   "cell_type": "code",
   "execution_count": 108,
   "metadata": {},
   "outputs": [],
   "source": [
    "#fill Nulls with 0\n",
    "merge_user_post.fillna(0,inplace=True)"
   ]
  },
  {
   "cell_type": "markdown",
   "metadata": {},
   "source": [
    "#### 10. Adjust the data types in order to avoid future issues. Which ones should be changed? "
   ]
  },
  {
   "cell_type": "code",
   "execution_count": 111,
   "metadata": {},
   "outputs": [
    {
     "name": "stdout",
     "output_type": "stream",
     "text": [
      "<class 'pandas.core.frame.DataFrame'>\n",
      "Int64Index: 38962 entries, 0 to 38961\n",
      "Data columns (total 9 columns):\n",
      " #   Column        Non-Null Count  Dtype  \n",
      "---  ------        --------------  -----  \n",
      " 0   userId        38962 non-null  int64  \n",
      " 1   Reputation    38962 non-null  int64  \n",
      " 2   Views         38962 non-null  int64  \n",
      " 3   UpVotes       38962 non-null  int64  \n",
      " 4   DownVotes     38962 non-null  int64  \n",
      " 5   postId        38962 non-null  int64  \n",
      " 6   Score         38962 non-null  int64  \n",
      " 7   ViewCount     38962 non-null  float64\n",
      " 8   CommentCount  38962 non-null  int64  \n",
      "dtypes: float64(1), int64(8)\n",
      "memory usage: 3.0 MB\n"
     ]
    }
   ],
   "source": [
    "#See all data types per column\n",
    "merge_user_post.info()\n",
    "\n",
    "# Change the type of ViewCount to int, so that all are aligned \n",
    "merge_user_post= merge_user_post.astype({\"ViewCount\": int})"
   ]
  },
  {
   "cell_type": "code",
   "execution_count": 112,
   "metadata": {},
   "outputs": [
    {
     "name": "stdout",
     "output_type": "stream",
     "text": [
      "<class 'pandas.core.frame.DataFrame'>\n",
      "Int64Index: 38962 entries, 0 to 38961\n",
      "Data columns (total 9 columns):\n",
      " #   Column        Non-Null Count  Dtype\n",
      "---  ------        --------------  -----\n",
      " 0   userId        38962 non-null  int64\n",
      " 1   Reputation    38962 non-null  int64\n",
      " 2   Views         38962 non-null  int64\n",
      " 3   UpVotes       38962 non-null  int64\n",
      " 4   DownVotes     38962 non-null  int64\n",
      " 5   postId        38962 non-null  int64\n",
      " 6   Score         38962 non-null  int64\n",
      " 7   ViewCount     38962 non-null  int32\n",
      " 8   CommentCount  38962 non-null  int64\n",
      "dtypes: int32(1), int64(8)\n",
      "memory usage: 2.8 MB\n"
     ]
    }
   ],
   "source": [
    "merge_user_post.info()\n"
   ]
  }
 ],
 "metadata": {
  "kernelspec": {
   "display_name": "Python 3",
   "language": "python",
   "name": "python3"
  },
  "language_info": {
   "codemirror_mode": {
    "name": "ipython",
    "version": 3
   },
   "file_extension": ".py",
   "mimetype": "text/x-python",
   "name": "python",
   "nbconvert_exporter": "python",
   "pygments_lexer": "ipython3",
   "version": "3.8.3"
  }
 },
 "nbformat": 4,
 "nbformat_minor": 2
}
